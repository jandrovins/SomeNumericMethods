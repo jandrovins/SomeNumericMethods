{
 "cells": [
  {
   "cell_type": "code",
   "execution_count": 3,
   "metadata": {},
   "outputs": [],
   "source": [
    "using LinearAlgebra"
   ]
  },
  {
   "cell_type": "code",
   "execution_count": 4,
   "metadata": {},
   "outputs": [
    {
     "data": {
      "text/plain": [
       "Gauss (generic function with 2 methods)"
      ]
     },
     "execution_count": 4,
     "metadata": {},
     "output_type": "execute_result"
    }
   ],
   "source": [
    "function RegressiveSubstitution(A)\n",
    "    X = Rational[]\n",
    "    for i in size(A)[1]:-1:1\n",
    "        j = size(A)[1] - i\n",
    "        rᵢ= A[i,:]\n",
    "        bᵢ= rᵢ[end]\n",
    "        Cₓ= rᵢ[end-1]\n",
    "        for k in 1:j\n",
    "            bᵢ-= rᵢ[end-k]\n",
    "            Cₓ=rᵢ[end-k-1]\n",
    "        end\n",
    "        xᵢ= bᵢ/Cₓ\n",
    "        append!(X, xᵢ)\n",
    "        A[1:i-1,end-1-j] = A[1:i-1,end-1-j] .* xᵢ\n",
    "    end\n",
    "    return X\n",
    "end\n",
    "\n",
    "function PartialPivoting(Ab)\n",
    "    position = findmax(abs.(Ab[:,1]))[2]\n",
    "    if position != 1\n",
    "        Ab[position, :], Ab[1,:] = Ab[1,:], Ab[position, :]\n",
    "    end\n",
    "end\n",
    "\n",
    "function TotalPivoting(Ab, col_moves) # Ab is a @view from complete Ab, created recursively\n",
    "    cAb = parent(Ab)\n",
    "    Ab_r = size(Ab)[1] # number of rows and columns of Ab\n",
    "    cAb_r = size(cAb)[1] # number of rows and columns of complete-Ab\n",
    "    step = (cAb_r - Ab_r) + 1 # difference in rows equals the number of the step\n",
    "\n",
    "    A = cAb[step:end,step:end-1] # The sub-matrix within which we will find the largest number\n",
    "    maxnumber, row_col = findmax(abs.(A))\n",
    "    row, col = Tuple(row_col) # row and column indices of the largest value\n",
    "    col_moves[step,:] = [col+step-1 step]\n",
    "    if col != 1\n",
    "        cAb[:, col+step-1], cAb[:,step] = cAb[:,step], cAb[:, col+step-1]\n",
    "    end\n",
    "    if row != 1\n",
    "        cAb[row+step-1, :], cAb[step,:] = cAb[step,:], cAb[row+step-1, :]\n",
    "    end\n",
    "end\n",
    "\n",
    "function Escalade(A, pivoting=\"false\", col_moves=nothing)\n",
    "    if size(A)[1] == 1\n",
    "        return\n",
    "    end\n",
    "    #A = convert(Array{Rational}, A)\n",
    "    A₁₁ = A[1,1]\n",
    "\n",
    "    if convert(Float64, A₁₁) == 0. && pivoting==\"false\" # if there is a 0 on the principal diagonal\n",
    "        for i in 2:size(A)[1]\n",
    "            if A[i,1] != 0\n",
    "                A[1,:], A[i,:] = A[i,:], A[1,:]\n",
    "                break\n",
    "            end\n",
    "        end\n",
    "    end\n",
    "\n",
    "    if pivoting == \"partial\"\n",
    "        PartialPivoting(A)\n",
    "    elseif pivoting == \"total\"\n",
    "        TotalPivoting(A, col_moves)\n",
    "    end\n",
    "    \n",
    "    A₁₁ = A[1,1]\n",
    "    for i in 2:size(A)[1]\n",
    "        if A[i,1] == 0\n",
    "            continue\n",
    "        end\n",
    "        rᵢ = A[i,:]\n",
    "        factor = A[i,1] / A₁₁\n",
    "        new_rᵢ= rᵢ - A[1,:] * factor\n",
    "        A[i,:] = new_rᵢ\n",
    "    end\n",
    "    println(\"STEP $(size(parent(A),1) - size(A, 1) + 1):\")\n",
    "    show(stdout, \"text/plain\", convert(Array{Float64}, parent(A)))\n",
    "    println()\n",
    "    println(\"END STEP \\n\\n\")\n",
    "\n",
    "    Escalade(@view(A[2:end,2:end]), pivoting, col_moves)\n",
    "end\n",
    "\n",
    "function swap_X(X, col_moves)\n",
    "    col_moves = reverse(col_moves,dims=1)\n",
    "    for i in 1:size(col_moves,1)\n",
    "        i₁,i₂ = col_moves[i, :]\n",
    "        X[i₁],X[i₂] = X[i₂],X[i₁]\n",
    "    end\n",
    "end\n",
    "\n",
    "function Gauss(A, pivoting=\"false\")\n",
    "    # Print input matrix\n",
    "    println(\"Input matrix:\")\n",
    "    show(stdout, \"text/plain\", convert(Array{Float64},parent(A)))\n",
    "    println(\"\\n\\n\")\n",
    "\n",
    "    col_moves = nothing\n",
    "    if pivoting == \"total\"\n",
    "        pivotes = size(A,1) - 1 # number of times we have to pivote\n",
    "        col_moves = Array{Int64}(undef, pivotes, 2)\n",
    "        Escalade(@view(A[:,:]), pivoting, col_moves)\n",
    "    else\n",
    "        Escalade(@view(A[:,:]), pivoting)\n",
    "    end\n",
    "    X = RegressiveSubstitution(A[:,:])\n",
    "    X = convert(Array{Float64}, reverse(X))\n",
    "    if pivoting == \"total\"\n",
    "        println(\"Columns moves historial: $col_moves\")\n",
    "        swap_X(X, col_moves)\n",
    "    end\n",
    "    print(\"X values: \")\n",
    "    println(X)\n",
    "    println(\"Extended escaladed matrix:\")\n",
    "    show(stdout, \"text/plain\", convert(Array{Float64},parent(A)))\n",
    "    println()\n",
    "    return X\n",
    "end\n"
   ]
  },
  {
   "cell_type": "code",
   "execution_count": 5,
   "metadata": {},
   "outputs": [
    {
     "data": {
      "text/plain": [
       "divdif (generic function with 1 method)"
      ]
     },
     "execution_count": 5,
     "metadata": {},
     "output_type": "execute_result"
    }
   ],
   "source": [
    "function divdif(X,Y)\n",
    "    n = length(X)\n",
    "    D = zeros(n, n)\n",
    "\n",
    "    D[:,1]=Y'\n",
    "    for i in 2:n\n",
    "        aux0 = D[i-1:n, i-1]\n",
    "        aux = diff(aux0)\n",
    "        aux2 = X[i:n] - X[1:n-i+1]\n",
    "        D[i:n, i] = aux /aux2\n",
    "    end\n",
    "    c = diag(D)\n",
    "    show(stdout, \"text/plain\", D)\n",
    "    show(stdout, \"text/plain\", diag(D))\n",
    "    b = c[end]\n",
    "end\n"
   ]
  },
  {
   "cell_type": "code",
   "execution_count": 6,
   "metadata": {},
   "outputs": [
    {
     "data": {
      "text/plain": [
       "vandermonde (generic function with 1 method)"
      ]
     },
     "execution_count": 6,
     "metadata": {},
     "output_type": "execute_result"
    }
   ],
   "source": [
    "function vandermonde(X, Y)\n",
    "    n=size(X, 1)\n",
    "    A=zeros(n,n)\n",
    "\n",
    "    for i in 1:n\n",
    "        A[:,i]=(X.^(n-i))\n",
    "    end\n",
    "        \n",
    "    Ab = hcat(A, Y)\n",
    "    Coef = Gauss(@view(Ab[:,:]), \"total\")\n",
    "end\n"
   ]
  },
  {
   "cell_type": "code",
   "execution_count": null,
   "metadata": {},
   "outputs": [],
   "source": []
  }
 ],
 "metadata": {
  "kernelspec": {
   "display_name": "Julia 1.5.0",
   "language": "julia",
   "name": "julia-1.5"
  },
  "language_info": {
   "file_extension": ".jl",
   "mimetype": "application/julia",
   "name": "julia",
   "version": "1.5.2"
  }
 },
 "nbformat": 4,
 "nbformat_minor": 4
}
